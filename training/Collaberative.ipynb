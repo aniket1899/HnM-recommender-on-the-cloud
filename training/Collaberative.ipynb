{
 "cells": [
  {
   "cell_type": "code",
   "execution_count": 1,
   "metadata": {},
   "outputs": [],
   "source": [
    "import numpy as np\n",
    "import pandas as pd\n",
    "import matplotlib.pyplot as plt\n",
    "from sklearn.preprocessing import MinMaxScaler\n",
    "from sklearn.model_selection import train_test_split\n",
    "import turicreate as tc"
   ]
  },
  {
   "cell_type": "markdown",
   "metadata": {},
   "source": [
    "### 1. Read transactions file"
   ]
  },
  {
   "cell_type": "code",
   "execution_count": 2,
   "metadata": {},
   "outputs": [],
   "source": [
    "transactions = pd.read_csv(\"../../data/transactions_train.csv\")\n",
    "transactions.drop(['t_dat', 'price', 'sales_channel_id'], axis=1, inplace=True)"
   ]
  },
  {
   "cell_type": "code",
   "execution_count": 3,
   "metadata": {},
   "outputs": [],
   "source": [
    "main_articles = pd.read_csv('../extracted/main_articles.csv')\n",
    "articles_to_keep = main_articles.article_id.to_list()\n",
    "del main_articles"
   ]
  },
  {
   "cell_type": "code",
   "execution_count": 4,
   "metadata": {},
   "outputs": [],
   "source": [
    "# keep only top 408 extracted articles\n",
    "transactions = transactions[transactions.article_id.isin(articles_to_keep)]\n"
   ]
  },
  {
   "cell_type": "code",
   "execution_count": 5,
   "metadata": {},
   "outputs": [],
   "source": [
    "transactions = transactions.groupby(['customer_id', 'article_id']).value_counts()\n",
    "transactions = pd.DataFrame(transactions, columns=['count'])\n",
    "transactions.reset_index(inplace=True)\n",
    "transactions['count_unique'] = 1"
   ]
  },
  {
   "cell_type": "code",
   "execution_count": 6,
   "metadata": {},
   "outputs": [
    {
     "data": {
      "text/html": [
       "<div>\n",
       "<style scoped>\n",
       "    .dataframe tbody tr th:only-of-type {\n",
       "        vertical-align: middle;\n",
       "    }\n",
       "\n",
       "    .dataframe tbody tr th {\n",
       "        vertical-align: top;\n",
       "    }\n",
       "\n",
       "    .dataframe thead th {\n",
       "        text-align: right;\n",
       "    }\n",
       "</style>\n",
       "<table border=\"1\" class=\"dataframe\">\n",
       "  <thead>\n",
       "    <tr style=\"text-align: right;\">\n",
       "      <th></th>\n",
       "      <th>customer_id</th>\n",
       "      <th>article_id</th>\n",
       "      <th>count</th>\n",
       "      <th>count_unique</th>\n",
       "    </tr>\n",
       "  </thead>\n",
       "  <tbody>\n",
       "    <tr>\n",
       "      <th>0</th>\n",
       "      <td>00000dbacae5abe5e23885899a1fa44253a17956c6d1c3...</td>\n",
       "      <td>568601006</td>\n",
       "      <td>2</td>\n",
       "      <td>1</td>\n",
       "    </tr>\n",
       "    <tr>\n",
       "      <th>1</th>\n",
       "      <td>00000dbacae5abe5e23885899a1fa44253a17956c6d1c3...</td>\n",
       "      <td>795440001</td>\n",
       "      <td>1</td>\n",
       "      <td>1</td>\n",
       "    </tr>\n",
       "    <tr>\n",
       "      <th>2</th>\n",
       "      <td>0000423b00ade91418cceaf3b26c6af3dd342b51fd051e...</td>\n",
       "      <td>351484002</td>\n",
       "      <td>3</td>\n",
       "      <td>1</td>\n",
       "    </tr>\n",
       "    <tr>\n",
       "      <th>3</th>\n",
       "      <td>0000423b00ade91418cceaf3b26c6af3dd342b51fd051e...</td>\n",
       "      <td>599580024</td>\n",
       "      <td>2</td>\n",
       "      <td>1</td>\n",
       "    </tr>\n",
       "    <tr>\n",
       "      <th>4</th>\n",
       "      <td>0000423b00ade91418cceaf3b26c6af3dd342b51fd051e...</td>\n",
       "      <td>599580055</td>\n",
       "      <td>2</td>\n",
       "      <td>1</td>\n",
       "    </tr>\n",
       "  </tbody>\n",
       "</table>\n",
       "</div>"
      ],
      "text/plain": [
       "                                         customer_id  article_id  count  \\\n",
       "0  00000dbacae5abe5e23885899a1fa44253a17956c6d1c3...   568601006      2   \n",
       "1  00000dbacae5abe5e23885899a1fa44253a17956c6d1c3...   795440001      1   \n",
       "2  0000423b00ade91418cceaf3b26c6af3dd342b51fd051e...   351484002      3   \n",
       "3  0000423b00ade91418cceaf3b26c6af3dd342b51fd051e...   599580024      2   \n",
       "4  0000423b00ade91418cceaf3b26c6af3dd342b51fd051e...   599580055      2   \n",
       "\n",
       "   count_unique  \n",
       "0             1  \n",
       "1             1  \n",
       "2             1  \n",
       "3             1  \n",
       "4             1  "
      ]
     },
     "execution_count": 6,
     "metadata": {},
     "output_type": "execute_result"
    }
   ],
   "source": [
    "transactions.head()"
   ]
  },
  {
   "cell_type": "markdown",
   "metadata": {},
   "source": [
    "### 2. Pivot and scale"
   ]
  },
  {
   "cell_type": "code",
   "execution_count": 7,
   "metadata": {},
   "outputs": [],
   "source": [
    "matrix = pd.pivot_table(transactions, values='count', index='customer_id', columns='article_id')\n",
    "del transactions"
   ]
  },
  {
   "cell_type": "code",
   "execution_count": 8,
   "metadata": {},
   "outputs": [
    {
     "data": {
      "text/plain": [
       "(749897, 408)"
      ]
     },
     "execution_count": 8,
     "metadata": {},
     "output_type": "execute_result"
    }
   ],
   "source": [
    "matrix.shape"
   ]
  },
  {
   "cell_type": "code",
   "execution_count": 9,
   "metadata": {},
   "outputs": [],
   "source": [
    "matrix = (matrix-matrix.min())/(matrix.max()-matrix.min())"
   ]
  },
  {
   "cell_type": "code",
   "execution_count": 10,
   "metadata": {},
   "outputs": [
    {
     "data": {
      "text/plain": [
       "(2697966, 3)"
      ]
     },
     "execution_count": 10,
     "metadata": {},
     "output_type": "execute_result"
    }
   ],
   "source": [
    "matrix.reset_index(inplace=True)\n",
    "matrix.index.names = ['scaled_freq']\n",
    "transactions_norm = pd.melt(matrix, id_vars='customer_id', value_name='scaled_freq').dropna()\n",
    "\n",
    "transactions_norm.shape"
   ]
  },
  {
   "cell_type": "code",
   "execution_count": 11,
   "metadata": {},
   "outputs": [
    {
     "data": {
      "text/html": [
       "<div>\n",
       "<style scoped>\n",
       "    .dataframe tbody tr th:only-of-type {\n",
       "        vertical-align: middle;\n",
       "    }\n",
       "\n",
       "    .dataframe tbody tr th {\n",
       "        vertical-align: top;\n",
       "    }\n",
       "\n",
       "    .dataframe thead th {\n",
       "        text-align: right;\n",
       "    }\n",
       "</style>\n",
       "<table border=\"1\" class=\"dataframe\">\n",
       "  <thead>\n",
       "    <tr style=\"text-align: right;\">\n",
       "      <th></th>\n",
       "      <th>customer_id</th>\n",
       "      <th>article_id</th>\n",
       "      <th>scaled_freq</th>\n",
       "    </tr>\n",
       "  </thead>\n",
       "  <tbody>\n",
       "    <tr>\n",
       "      <th>181</th>\n",
       "      <td>000f7535bdc611ad136a9f04746d6b1431f50a7f60fbbe...</td>\n",
       "      <td>108775015</td>\n",
       "      <td>0.142857</td>\n",
       "    </tr>\n",
       "    <tr>\n",
       "      <th>317</th>\n",
       "      <td>001ae5408a043f64bccd32beffe2730151414cbdf18a6e...</td>\n",
       "      <td>108775015</td>\n",
       "      <td>0.071429</td>\n",
       "    </tr>\n",
       "    <tr>\n",
       "      <th>325</th>\n",
       "      <td>001ba9e81e13ce12a2585d9ebde923fe74429e9e12ea59...</td>\n",
       "      <td>108775015</td>\n",
       "      <td>0.000000</td>\n",
       "    </tr>\n",
       "    <tr>\n",
       "      <th>401</th>\n",
       "      <td>0022a721371d5949d174ecba60346d89a9d6c08c0fba4f...</td>\n",
       "      <td>108775015</td>\n",
       "      <td>0.071429</td>\n",
       "    </tr>\n",
       "    <tr>\n",
       "      <th>404</th>\n",
       "      <td>002323971cbd38fad4512d5114676e5e17eb262db02320...</td>\n",
       "      <td>108775015</td>\n",
       "      <td>0.000000</td>\n",
       "    </tr>\n",
       "  </tbody>\n",
       "</table>\n",
       "</div>"
      ],
      "text/plain": [
       "                                           customer_id article_id  scaled_freq\n",
       "181  000f7535bdc611ad136a9f04746d6b1431f50a7f60fbbe...  108775015     0.142857\n",
       "317  001ae5408a043f64bccd32beffe2730151414cbdf18a6e...  108775015     0.071429\n",
       "325  001ba9e81e13ce12a2585d9ebde923fe74429e9e12ea59...  108775015     0.000000\n",
       "401  0022a721371d5949d174ecba60346d89a9d6c08c0fba4f...  108775015     0.071429\n",
       "404  002323971cbd38fad4512d5114676e5e17eb262db02320...  108775015     0.000000"
      ]
     },
     "execution_count": 11,
     "metadata": {},
     "output_type": "execute_result"
    }
   ],
   "source": [
    "transactions_norm.head()"
   ]
  },
  {
   "cell_type": "code",
   "execution_count": 12,
   "metadata": {},
   "outputs": [],
   "source": [
    "train, test = [tc.SFrame(x) for x in train_test_split(transactions_norm, test_size=.2)]\n",
    "# del transactions_norm\n"
   ]
  },
  {
   "cell_type": "code",
   "execution_count": 13,
   "metadata": {},
   "outputs": [],
   "source": [
    "# variables\n",
    "_CUST = 'customer_id'\n",
    "_ARTI = 'article_id'\n",
    "_CUSTOMERS_REC = list(pd.read_csv('../../data/customers.csv')['customer_id'])\n",
    "_NRECS = 10\n",
    "_NDISPLAY = 30\n",
    "_TARGET='scaled_freq'\n"
   ]
  },
  {
   "cell_type": "code",
   "execution_count": 16,
   "metadata": {},
   "outputs": [],
   "source": [
    "def train_recc(train_data, mode, user_id, item_id, target, users_to_recc, n_display, n_rec):\n",
    "    if mode == 'popularity':\n",
    "        model = tc.popularity_recommender.create(train_data, user_id=user_id, item_id=item_id, target=target)\n",
    "    elif mode == 'cosine':\n",
    "        model = tc.item_similarity_recommender.create(train_data, user_id=user_id, item_id=item_id, target=target,\n",
    "                                                         similarity_type='cosine')\n",
    "    elif mode == 'pearson':\n",
    "        model = tc.item_similarity_recommender.create(train_data, user_id=user_id, item_id=item_id, target=target,\n",
    "                                                         similarity_type='pearson')\n",
    "    # elif mode == 'ranking_factorization_recommender':\n",
    "    #     model = \n",
    "    else:\n",
    "        print(\"Invalid Mode from: 'popularity', 'cosine', 'pearson', 'ranking_factorization_recommender \")\n",
    "        return None\n",
    "    \n",
    "    recommend = model.recommend(users=users_to_recc, k=n_rec, verbose=False)\n",
    "    # recommend.print_rows(n_display)\n",
    "    return model\n",
    "    "
   ]
  },
  {
   "cell_type": "code",
   "execution_count": 17,
   "metadata": {},
   "outputs": [
    {
     "data": {
      "text/html": [
       "<pre>Preparing data set.</pre>"
      ],
      "text/plain": [
       "Preparing data set."
      ]
     },
     "metadata": {},
     "output_type": "display_data"
    },
    {
     "data": {
      "text/html": [
       "<pre>    Data has 2158372 observations with 692604 users and 408 items.</pre>"
      ],
      "text/plain": [
       "    Data has 2158372 observations with 692604 users and 408 items."
      ]
     },
     "metadata": {},
     "output_type": "display_data"
    },
    {
     "data": {
      "text/html": [
       "<pre>    Data prepared in: 1.43712s</pre>"
      ],
      "text/plain": [
       "    Data prepared in: 1.43712s"
      ]
     },
     "metadata": {},
     "output_type": "display_data"
    },
    {
     "data": {
      "text/html": [
       "<pre>2158372 observations to process; with 408 unique items.</pre>"
      ],
      "text/plain": [
       "2158372 observations to process; with 408 unique items."
      ]
     },
     "metadata": {},
     "output_type": "display_data"
    }
   ],
   "source": [
    "popRec = train_recc(train_data=train, mode='popularity', user_id=_CUST, item_id=_ARTI, target=_TARGET, users_to_recc=_CUSTOMERS_REC, n_display=_NDISPLAY, n_rec=_NRECS)"
   ]
  },
  {
   "cell_type": "code",
   "execution_count": 24,
   "metadata": {},
   "outputs": [
    {
     "data": {
      "text/plain": [
       "{'precision_recall_by_user': Columns:\n",
       " \tcustomer_id\tstr\n",
       " \tcutoff\tint\n",
       " \tprecision\tfloat\n",
       " \trecall\tfloat\n",
       " \tcount\tint\n",
       " \n",
       " Rows: 6131232\n",
       " \n",
       " Data:\n",
       " +-------------------------------+--------+-----------+--------+-------+\n",
       " |          customer_id          | cutoff | precision | recall | count |\n",
       " +-------------------------------+--------+-----------+--------+-------+\n",
       " | b9cdfe2bd103ed80154c60fd2b... |   1    |    0.0    |  0.0   |   1   |\n",
       " | b9cdfe2bd103ed80154c60fd2b... |   2    |    0.0    |  0.0   |   1   |\n",
       " | b9cdfe2bd103ed80154c60fd2b... |   3    |    0.0    |  0.0   |   1   |\n",
       " | b9cdfe2bd103ed80154c60fd2b... |   4    |    0.0    |  0.0   |   1   |\n",
       " | b9cdfe2bd103ed80154c60fd2b... |   5    |    0.0    |  0.0   |   1   |\n",
       " | b9cdfe2bd103ed80154c60fd2b... |   6    |    0.0    |  0.0   |   1   |\n",
       " | b9cdfe2bd103ed80154c60fd2b... |   7    |    0.0    |  0.0   |   1   |\n",
       " | b9cdfe2bd103ed80154c60fd2b... |   8    |    0.0    |  0.0   |   1   |\n",
       " | b9cdfe2bd103ed80154c60fd2b... |   9    |    0.0    |  0.0   |   1   |\n",
       " | b9cdfe2bd103ed80154c60fd2b... |   10   |    0.0    |  0.0   |   1   |\n",
       " +-------------------------------+--------+-----------+--------+-------+\n",
       " [6131232 rows x 5 columns]\n",
       " Note: Only the head of the SFrame is printed.\n",
       " You can use print_rows(num_rows=m, num_columns=n) to print more rows and columns.,\n",
       " 'precision_recall_overall': Columns:\n",
       " \tcutoff\tint\n",
       " \tprecision\tfloat\n",
       " \trecall\tfloat\n",
       " \n",
       " Rows: 18\n",
       " \n",
       " Data:\n",
       " +--------+-----------------------+-----------------------+\n",
       " | cutoff |       precision       |         recall        |\n",
       " +--------+-----------------------+-----------------------+\n",
       " |   1    |  0.002404410728545276 | 0.0014524998949907344 |\n",
       " |   2    |  0.003167715721734237 | 0.0038843991138896934 |\n",
       " |   3    |  0.002979825261872458 |  0.005551724268549839 |\n",
       " |   4    |  0.002838907416975921 |  0.007208549107754688 |\n",
       " |   5    | 0.0028077880595614607 |  0.008852382203276481 |\n",
       " |   6    |  0.002782638138631673 |  0.010454125179599625 |\n",
       " |   7    | 0.0027663515027880324 |  0.012089125174007795 |\n",
       " |   8    | 0.0027178061440180207 |  0.013610363366546129 |\n",
       " |   9    |  0.00276518650737688  |  0.015520322294653954 |\n",
       " |   10   | 0.0027311639813992305 |  0.016995348720138782 |\n",
       " +--------+-----------------------+-----------------------+\n",
       " [18 rows x 3 columns]\n",
       " Note: Only the head of the SFrame is printed.\n",
       " You can use print_rows(num_rows=m, num_columns=n) to print more rows and columns.}"
      ]
     },
     "execution_count": 24,
     "metadata": {},
     "output_type": "execute_result"
    }
   ],
   "source": [
    "popRec.evaluate_precision_recall(test, verbose=False)"
   ]
  },
  {
   "attachments": {},
   "cell_type": "markdown",
   "metadata": {},
   "source": [
    "RMSE:\n",
    "pop: 0.055406750752293024"
   ]
  },
  {
   "cell_type": "code",
   "execution_count": null,
   "metadata": {},
   "outputs": [],
   "source": []
  }
 ],
 "metadata": {
  "kernelspec": {
   "display_name": "hnmenv",
   "language": "python",
   "name": "python3"
  },
  "language_info": {
   "codemirror_mode": {
    "name": "ipython",
    "version": 3
   },
   "file_extension": ".py",
   "mimetype": "text/x-python",
   "name": "python",
   "nbconvert_exporter": "python",
   "pygments_lexer": "ipython3",
   "version": "3.8.16"
  },
  "orig_nbformat": 4,
  "vscode": {
   "interpreter": {
    "hash": "3320da3c335115ffaca360cbfc9d6be9feb9a4d30417233248aad7a3bbac10bd"
   }
  }
 },
 "nbformat": 4,
 "nbformat_minor": 2
}
